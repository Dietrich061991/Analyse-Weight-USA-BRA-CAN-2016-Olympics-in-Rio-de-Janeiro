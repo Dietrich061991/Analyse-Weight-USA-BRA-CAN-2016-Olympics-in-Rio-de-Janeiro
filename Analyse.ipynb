{
  "nbformat": 4,
  "nbformat_minor": 0,
  "metadata": {
    "colab": {
      "name": "Untitled2.ipynb",
      "provenance": [],
      "collapsed_sections": [],
      "authorship_tag": "ABX9TyMOOqHOE5MnrxAmBq4u503V",
      "include_colab_link": true
    },
    "kernelspec": {
      "name": "python3",
      "display_name": "Python 3"
    }
  },
  "cells": [
    {
      "cell_type": "markdown",
      "metadata": {
        "id": "view-in-github",
        "colab_type": "text"
      },
      "source": [
        "<a href=\"https://colab.research.google.com/github/Dietrich061991/Analyse-Weight-USA-BRA-CAN-2016-Olympics-in-Rio-de-Janeiro/blob/master/Analyse.ipynb\" target=\"_parent\"><img src=\"https://colab.research.google.com/assets/colab-badge.svg\" alt=\"Open In Colab\"/></a>"
      ]
    },
    {
      "cell_type": "markdown",
      "metadata": {
        "id": "OmPAmZaP3-K9",
        "colab_type": "text"
      },
      "source": [
        "\n",
        "**Desafio 4**\n",
        "Neste desafio, vamos praticar um pouco sobre testes de hipóteses. Utilizaremos o data set 2016 Olympics in Rio de Janeiro(https://www.kaggle.com/rio2016/olympic-games/), que contém dados sobre os atletas das Olimpíadas de 2016 no Rio de Janeiro.\n",
        "\n",
        "Esse data set conta com informações gerais sobre 11538 atletas como nome, nacionalidade, altura, peso e esporte praticado. Estaremos especialmente interessados nas variáveis numéricas altura (height) e peso (weight). As análises feitas aqui são parte de uma Análise Exploratória de Dados (EDA).\n",
        "\n",
        "Obs.: Por favor, não modifique o nome das funções de resposta. "
      ]
    },
    {
      "cell_type": "code",
      "metadata": {
        "id": "IMmAh_674LgL",
        "colab_type": "code",
        "colab": {}
      },
      "source": [
        "import pandas as pd\n",
        "import matplotlib.pyplot as plt\n",
        "import numpy as np\n",
        "import scipy.stats as sct\n",
        "import seaborn as sns\n",
        "import statsmodels.api as sm"
      ],
      "execution_count": 0,
      "outputs": []
    },
    {
      "cell_type": "markdown",
      "metadata": {
        "id": "GF2PTKp75FLz",
        "colab_type": "text"
      },
      "source": [
        "\n",
        "Inicia sua análise a partir daqui"
      ]
    },
    {
      "cell_type": "code",
      "metadata": {
        "id": "gCqgzV5r5MMx",
        "colab_type": "code",
        "outputId": "f2249e42-9e60-4b71-f526-ce49635df38b",
        "colab": {
          "base_uri": "https://localhost:8080/",
          "height": 34
        }
      },
      "source": [
        "from google.colab import drive\n",
        "drive.mount('/content/drive')\n"
      ],
      "execution_count": 10,
      "outputs": [
        {
          "output_type": "stream",
          "text": [
            "Drive already mounted at /content/drive; to attempt to forcibly remount, call drive.mount(\"/content/drive\", force_remount=True).\n"
          ],
          "name": "stdout"
        }
      ]
    },
    {
      "cell_type": "code",
      "metadata": {
        "id": "5r0G3ywc7sZU",
        "colab_type": "code",
        "outputId": "9d0606b4-a9ba-4190-ca53-7a8ea34deea2",
        "colab": {
          "base_uri": "https://localhost:8080/",
          "height": 34
        }
      },
      "source": [
        "!ls \"/content/drive/My Drive/olympic-games\""
      ],
      "execution_count": 11,
      "outputs": [
        {
          "output_type": "stream",
          "text": [
            "athletes.csv  countries.csv  events.csv\n"
          ],
          "name": "stdout"
        }
      ]
    },
    {
      "cell_type": "code",
      "metadata": {
        "id": "SI9pSzJFvprU",
        "colab_type": "code",
        "colab": {}
      },
      "source": [
        "def get_sample(df, col_name, n=200, seed=42):\n",
        "    \"\"\"Get a sample from a column of a dataframe.\n",
        "    \n",
        "    It drops any numpy.nan entries before sampling. The sampling\n",
        "    is performed without replacement.\n",
        "    \n",
        "    Example of numpydoc for those who haven't seen yet.\n",
        "    \n",
        "    Parameters\n",
        "    ----------\n",
        "    df : pandas.DataFrame\n",
        "        Source dataframe.\n",
        "    col_name : str\n",
        "        Name of the column to be sampled.\n",
        "    n : int\n",
        "        Sample size. Default is 200.\n",
        "    seed : int\n",
        "        Random seed. Default is 42.\n",
        "    \n",
        "    Returns\n",
        "    -------\n",
        "    pandas.Series\n",
        "        Sample of size n from dataframe's column.\n",
        "    \"\"\"\n",
        "    np.random.seed(seed)\n",
        "    \n",
        "    random_id = np.random.choice(df[col_name].dropna().index, size=n, replace=False)\n",
        "    \n",
        "    return df.loc[random_id, col_name]"
      ],
      "execution_count": 0,
      "outputs": []
    },
    {
      "cell_type": "code",
      "metadata": {
        "id": "q0W2pF7z8cbm",
        "colab_type": "code",
        "outputId": "3dc80da6-7377-4fb8-e66a-d455c7eda1aa",
        "colab": {
          "base_uri": "https://localhost:8080/",
          "height": 204
        }
      },
      "source": [
        "df =  pd.read_csv ('/content/drive/My Drive/olympic-games/athletes.csv',delimiter=',')\n",
        "df.head()"
      ],
      "execution_count": 13,
      "outputs": [
        {
          "output_type": "execute_result",
          "data": {
            "text/html": [
              "<div>\n",
              "<style scoped>\n",
              "    .dataframe tbody tr th:only-of-type {\n",
              "        vertical-align: middle;\n",
              "    }\n",
              "\n",
              "    .dataframe tbody tr th {\n",
              "        vertical-align: top;\n",
              "    }\n",
              "\n",
              "    .dataframe thead th {\n",
              "        text-align: right;\n",
              "    }\n",
              "</style>\n",
              "<table border=\"1\" class=\"dataframe\">\n",
              "  <thead>\n",
              "    <tr style=\"text-align: right;\">\n",
              "      <th></th>\n",
              "      <th>id</th>\n",
              "      <th>name</th>\n",
              "      <th>nationality</th>\n",
              "      <th>sex</th>\n",
              "      <th>dob</th>\n",
              "      <th>height</th>\n",
              "      <th>weight</th>\n",
              "      <th>sport</th>\n",
              "      <th>gold</th>\n",
              "      <th>silver</th>\n",
              "      <th>bronze</th>\n",
              "    </tr>\n",
              "  </thead>\n",
              "  <tbody>\n",
              "    <tr>\n",
              "      <th>0</th>\n",
              "      <td>736041664</td>\n",
              "      <td>A Jesus Garcia</td>\n",
              "      <td>ESP</td>\n",
              "      <td>male</td>\n",
              "      <td>10/17/69</td>\n",
              "      <td>1.72</td>\n",
              "      <td>64.0</td>\n",
              "      <td>athletics</td>\n",
              "      <td>0</td>\n",
              "      <td>0</td>\n",
              "      <td>0</td>\n",
              "    </tr>\n",
              "    <tr>\n",
              "      <th>1</th>\n",
              "      <td>532037425</td>\n",
              "      <td>A Lam Shin</td>\n",
              "      <td>KOR</td>\n",
              "      <td>female</td>\n",
              "      <td>9/23/86</td>\n",
              "      <td>1.68</td>\n",
              "      <td>56.0</td>\n",
              "      <td>fencing</td>\n",
              "      <td>0</td>\n",
              "      <td>0</td>\n",
              "      <td>0</td>\n",
              "    </tr>\n",
              "    <tr>\n",
              "      <th>2</th>\n",
              "      <td>435962603</td>\n",
              "      <td>Aaron Brown</td>\n",
              "      <td>CAN</td>\n",
              "      <td>male</td>\n",
              "      <td>5/27/92</td>\n",
              "      <td>1.98</td>\n",
              "      <td>79.0</td>\n",
              "      <td>athletics</td>\n",
              "      <td>0</td>\n",
              "      <td>0</td>\n",
              "      <td>1</td>\n",
              "    </tr>\n",
              "    <tr>\n",
              "      <th>3</th>\n",
              "      <td>521041435</td>\n",
              "      <td>Aaron Cook</td>\n",
              "      <td>MDA</td>\n",
              "      <td>male</td>\n",
              "      <td>1/2/91</td>\n",
              "      <td>1.83</td>\n",
              "      <td>80.0</td>\n",
              "      <td>taekwondo</td>\n",
              "      <td>0</td>\n",
              "      <td>0</td>\n",
              "      <td>0</td>\n",
              "    </tr>\n",
              "    <tr>\n",
              "      <th>4</th>\n",
              "      <td>33922579</td>\n",
              "      <td>Aaron Gate</td>\n",
              "      <td>NZL</td>\n",
              "      <td>male</td>\n",
              "      <td>11/26/90</td>\n",
              "      <td>1.81</td>\n",
              "      <td>71.0</td>\n",
              "      <td>cycling</td>\n",
              "      <td>0</td>\n",
              "      <td>0</td>\n",
              "      <td>0</td>\n",
              "    </tr>\n",
              "  </tbody>\n",
              "</table>\n",
              "</div>"
            ],
            "text/plain": [
              "          id            name nationality  ... gold silver  bronze\n",
              "0  736041664  A Jesus Garcia         ESP  ...    0      0       0\n",
              "1  532037425      A Lam Shin         KOR  ...    0      0       0\n",
              "2  435962603     Aaron Brown         CAN  ...    0      0       1\n",
              "3  521041435      Aaron Cook         MDA  ...    0      0       0\n",
              "4   33922579      Aaron Gate         NZL  ...    0      0       0\n",
              "\n",
              "[5 rows x 11 columns]"
            ]
          },
          "metadata": {
            "tags": []
          },
          "execution_count": 13
        }
      ]
    },
    {
      "cell_type": "markdown",
      "metadata": {
        "id": "czMe2JoY9LpV",
        "colab_type": "text"
      },
      "source": [
        "\n",
        "**Questão 1**\n",
        "Considerando uma amostra de tamanho 3000 da coluna height obtida com a função get_sample(), execute o teste de normalidade de Shapiro-Wilk com a função scipy.stats.shapiro(). Podemos afirmar que as alturas são normalmente distribuídas com base nesse teste (ao nível de significância de 5%)? Responda com um boolean (True ou False)."
      ]
    },
    {
      "cell_type": "markdown",
      "metadata": {
        "id": "4HTBEtf3r4tT",
        "colab_type": "text"
      },
      "source": [
        "**Documentation** teste de normalidade de Shapiro-Wilk com a função scipy.stats.shapiro() https://docs.scipy.org/doc/scipy/reference/generated/scipy.stats.shapiro.html"
      ]
    },
    {
      "cell_type": "code",
      "metadata": {
        "id": "Jm4869tlKf-x",
        "colab_type": "code",
        "outputId": "fdcc7a7f-2dd9-4ccc-8f86-f32e853aa6d1",
        "colab": {
          "base_uri": "https://localhost:8080/",
          "height": 34
        }
      },
      "source": [
        "#retirando a amostra que se encontra na coluna height\n",
        "height = get_sample(df,'height',n=3000)\n",
        "\n",
        "#calculando o teste de normalidade das amostras\n",
        "shapiro_wilk= sct.shapiro(height)\n",
        "shapiro_wilk\n"
      ],
      "execution_count": 14,
      "outputs": [
        {
          "output_type": "execute_result",
          "data": {
            "text/plain": [
              "(0.9961519837379456, 5.681722541339695e-07)"
            ]
          },
          "metadata": {
            "tags": []
          },
          "execution_count": 14
        }
      ]
    },
    {
      "cell_type": "markdown",
      "metadata": {
        "id": "wWpQdz4bSp2Z",
        "colab_type": "text"
      },
      "source": [
        "**Calculo da mediana/mean/moda das Amostras**"
      ]
    },
    {
      "cell_type": "markdown",
      "metadata": {
        "id": "1AWMc8XqVbO6",
        "colab_type": "text"
      },
      "source": [
        "**Mediana:** o número do centro; é encontrado ordenando-se todos os dados e escolhendo o que está no centro (ou, se houver dois números no centro, calculando-se a média desses dois números)"
      ]
    },
    {
      "cell_type": "code",
      "metadata": {
        "id": "9BhY9c8sTnXk",
        "colab_type": "code",
        "outputId": "aa9d4d83-52d4-48d9-d00f-30f9a23c945f",
        "colab": {
          "base_uri": "https://localhost:8080/",
          "height": 34
        }
      },
      "source": [
        "\n",
        "height.median()"
      ],
      "execution_count": 15,
      "outputs": [
        {
          "output_type": "execute_result",
          "data": {
            "text/plain": [
              "1.76"
            ]
          },
          "metadata": {
            "tags": []
          },
          "execution_count": 15
        }
      ]
    },
    {
      "cell_type": "markdown",
      "metadata": {
        "id": "tsOCa4vOVt1S",
        "colab_type": "text"
      },
      "source": [
        "**Média:** o número \"médio\"; é encontrado somando-se todos os dados e dividindo pelo número de dados"
      ]
    },
    {
      "cell_type": "code",
      "metadata": {
        "id": "I_kE9_NAVB1t",
        "colab_type": "code",
        "outputId": "2ea64326-50c1-4489-9796-72f7cecac15b",
        "colab": {
          "base_uri": "https://localhost:8080/",
          "height": 34
        }
      },
      "source": [
        "height.mean()"
      ],
      "execution_count": 16,
      "outputs": [
        {
          "output_type": "execute_result",
          "data": {
            "text/plain": [
              "1.766779999999997"
            ]
          },
          "metadata": {
            "tags": []
          },
          "execution_count": 16
        }
      ]
    },
    {
      "cell_type": "markdown",
      "metadata": {
        "id": "EhesO3BwV87S",
        "colab_type": "text"
      },
      "source": [
        "**Moda:** o número mais frequente — ou seja, o número que aparece o maior número de vezes."
      ]
    },
    {
      "cell_type": "code",
      "metadata": {
        "id": "lc02fsCPTIp-",
        "colab_type": "code",
        "outputId": "d8a9d937-8f6a-492b-dbc8-5994216171fb",
        "colab": {
          "base_uri": "https://localhost:8080/",
          "height": 51
        }
      },
      "source": [
        "height.mode()"
      ],
      "execution_count": 17,
      "outputs": [
        {
          "output_type": "execute_result",
          "data": {
            "text/plain": [
              "0    1.8\n",
              "dtype: float64"
            ]
          },
          "metadata": {
            "tags": []
          },
          "execution_count": 17
        }
      ]
    },
    {
      "cell_type": "markdown",
      "metadata": {
        "id": "VzYAkNVXdSfq",
        "colab_type": "text"
      },
      "source": [
        "**obs:** Meu valor (p-valor) é inferior ao (Alpha) entao o test de normalidade deve ser rejeitado. lembrando que o meu alpha = 0.05\n",
        "\n",
        "Documentation sobre p-valor https://pt.wikipedia.org/wiki/Valor-p\n"
      ]
    },
    {
      "cell_type": "code",
      "metadata": {
        "id": "DlvNaB9HchGm",
        "colab_type": "code",
        "outputId": "b9701645-ea02-44fe-8b41-a1babb8a9ca7",
        "colab": {
          "base_uri": "https://localhost:8080/",
          "height": 34
        }
      },
      "source": [
        "alpha = 0.05\n",
        "shapiro_wilk[1] > alpha"
      ],
      "execution_count": 22,
      "outputs": [
        {
          "output_type": "execute_result",
          "data": {
            "text/plain": [
              "False"
            ]
          },
          "metadata": {
            "tags": []
          },
          "execution_count": 22
        }
      ]
    },
    {
      "cell_type": "markdown",
      "metadata": {
        "id": "HLqsDcwOAUN6",
        "colab_type": "text"
      },
      "source": [
        "**Para refletir:**\n",
        "\n",
        "Plote o histograma dessa variável (com, por exemplo, bins=25). A forma do gráfico e o resultado do teste são condizentes? Por que?\n",
        "Plote o qq-plot para essa variável e a analise.\n",
        "Existe algum nível de significância razoável que nos dê outro resultado no teste? (Não faça isso na prática. Isso é chamado p-value hacking, e não é legal)."
      ]
    },
    {
      "cell_type": "code",
      "metadata": {
        "id": "rBo2iVRLgOrk",
        "colab_type": "code",
        "colab": {}
      },
      "source": [
        "%matplotlib inline\n",
        "from IPython.core.pylabtools import figsize\n",
        "figsize(10, 7)\n",
        "sns.set()"
      ],
      "execution_count": 0,
      "outputs": []
    },
    {
      "cell_type": "code",
      "metadata": {
        "id": "mdkL1ksee9oY",
        "colab_type": "code",
        "outputId": "63675da5-4417-41de-dbcd-23cc275dfa32",
        "colab": {
          "base_uri": "https://localhost:8080/",
          "height": 431
        }
      },
      "source": [
        "plt.hist(height, bins = 25, color = \"orange\")\n",
        "plt.show()"
      ],
      "execution_count": 24,
      "outputs": [
        {
          "output_type": "display_data",
          "data": {
            "image/png": "[encoded data removed]",
            "text/plain": [
              "<Figure size 720x504 with 1 Axes>"
            ]
          },
          "metadata": {
            "tags": []
          }
        }
      ]
    },
    {
      "cell_type": "code",
      "metadata": {
        "id": "Udo8hn4olbeF",
        "colab_type": "code",
        "outputId": "760f3498-7704-4c7e-a0d0-db6669bb5d0c",
        "colab": {
          "base_uri": "https://localhost:8080/",
          "height": 448
        }
      },
      "source": [
        "sm.qqplot(height, fit=True, line=\"45\",color = \"orange\");"
      ],
      "execution_count": 25,
      "outputs": [
        {
          "output_type": "display_data",
          "data": {
            "image/png": "[encoded data removed]",
            "text/plain": [
              "<Figure size 720x504 with 1 Axes>"
            ]
          },
          "metadata": {
            "tags": []
          }
        }
      ]
    },
    {
      "cell_type": "markdown",
      "metadata": {
        "id": "5ejnTbhannrt",
        "colab_type": "text"
      },
      "source": [
        "**Resposta question 1**"
      ]
    },
    {
      "cell_type": "code",
      "metadata": {
        "id": "uQkmj2ajnxAH",
        "colab_type": "code",
        "outputId": "a3a6dd3c-8f2e-4af2-8e26-3dc1763730ba",
        "colab": {
          "base_uri": "https://localhost:8080/",
          "height": 34
        }
      },
      "source": [
        "def q1():\n",
        "    height = get_sample(df,'height',n=3000)\n",
        "    shapiro_wilk = sct.shapiro(height)\n",
        "    alpha = 0.05\n",
        "    return shapiro_wilk[1] > alpha\n",
        "\n",
        "q1()"
      ],
      "execution_count": 26,
      "outputs": [
        {
          "output_type": "execute_result",
          "data": {
            "text/plain": [
              "False"
            ]
          },
          "metadata": {
            "tags": []
          },
          "execution_count": 26
        }
      ]
    },
    {
      "cell_type": "markdown",
      "metadata": {
        "id": "UuS-OzhyoP3N",
        "colab_type": "text"
      },
      "source": [
        "***                  O que podemos tirar como conclusao na question 1 ? Podemos observar uma distribuiçao anormal das amostras da altura dos atletas***"
      ]
    },
    {
      "cell_type": "markdown",
      "metadata": {
        "id": "-Kl8JAfYpyIU",
        "colab_type": "text"
      },
      "source": [
        "**Questão 2**\n",
        "Repita o mesmo procedimento acima, mas agora utilizando o teste de normalidade de Jarque-Bera através da função scipy.stats.jarque_bera(). Agora podemos afirmar que as alturas são normalmente distribuídas (ao nível de significância de 5%)? Responda com um boolean (True ou False)."
      ]
    },
    {
      "cell_type": "markdown",
      "metadata": {
        "id": "2U6LohpUrND-",
        "colab_type": "text"
      },
      "source": [
        "**Documentation** Jarque-Bera através da função scipy.stats.jarque_bera(). https://docs.scipy.org/doc/scipy/reference/generated/scipy.stats.jarque_bera.html"
      ]
    },
    {
      "cell_type": "code",
      "metadata": {
        "id": "xmL2fd-Kp8Yf",
        "colab_type": "code",
        "outputId": "bf36ea5a-9e60-4db0-ef0b-707f4a60c109",
        "colab": {
          "base_uri": "https://localhost:8080/",
          "height": 34
        }
      },
      "source": [
        "Jarque_Bera = sct.jarque_bera(height)\n",
        "Jarque_Bera"
      ],
      "execution_count": 27,
      "outputs": [
        {
          "output_type": "execute_result",
          "data": {
            "text/plain": [
              "(13.03363513594265, 0.001478366424594868)"
            ]
          },
          "metadata": {
            "tags": []
          },
          "execution_count": 27
        }
      ]
    },
    {
      "cell_type": "code",
      "metadata": {
        "id": "NTxZyCbhs5PN",
        "colab_type": "code",
        "outputId": "aad3a638-5be4-411e-f784-5f2a0b8e9cfc",
        "colab": {
          "base_uri": "https://localhost:8080/",
          "height": 34
        }
      },
      "source": [
        "Jarque_Bera[1] > alpha"
      ],
      "execution_count": 28,
      "outputs": [
        {
          "output_type": "execute_result",
          "data": {
            "text/plain": [
              "False"
            ]
          },
          "metadata": {
            "tags": []
          },
          "execution_count": 28
        }
      ]
    },
    {
      "cell_type": "markdown",
      "metadata": {
        "id": "wrhqFfuDtw5r",
        "colab_type": "text"
      },
      "source": [
        "**Resposta question 2**"
      ]
    },
    {
      "cell_type": "code",
      "metadata": {
        "id": "sEGU0hb9t6Nx",
        "colab_type": "code",
        "outputId": "93555d6b-3b0a-469e-eab3-c7701798842c",
        "colab": {
          "base_uri": "https://localhost:8080/",
          "height": 34
        }
      },
      "source": [
        "def q2():\n",
        "    height = get_sample(df,'height',n=3000)\n",
        "    Jarque_Bera = sct.jarque_bera(height)\n",
        "    alpha = 0.05\n",
        "    return Jarque_Bera[1] > alpha\n",
        "\n",
        "q2()"
      ],
      "execution_count": 29,
      "outputs": [
        {
          "output_type": "execute_result",
          "data": {
            "text/plain": [
              "False"
            ]
          },
          "metadata": {
            "tags": []
          },
          "execution_count": 29
        }
      ]
    },
    {
      "cell_type": "markdown",
      "metadata": {
        "id": "fJ595znav6k8",
        "colab_type": "text"
      },
      "source": [
        "**O que podemos tirar como conclusao na question 2 ? Podemos observar uma distribuiçao anormal das amostras da altura dos atletas**"
      ]
    },
    {
      "cell_type": "markdown",
      "metadata": {
        "id": "m_9CCAUPwVUw",
        "colab_type": "text"
      },
      "source": [
        "**Questão 3**\n",
        "Considerando agora uma amostra de tamanho 3000 da coluna weight obtida com a função get_sample(). Faça o teste de normalidade de D'Agostino-Pearson utilizando a função scipy.stats.normaltest(). Podemos afirmar que os pesos vêm de uma distribuição normal ao nível de significância de 5%? Responda com um boolean (True ou False)."
      ]
    },
    {
      "cell_type": "markdown",
      "metadata": {
        "id": "5a7efuvzw_Bq",
        "colab_type": "text"
      },
      "source": [
        "**Documentation**  teste de normalidade de D'Agostino-Pearson utilizando a função scipy.stats.normaltest() https://docs.scipy.org/doc/scipy/reference/generated/scipy.stats.normaltest.html"
      ]
    },
    {
      "cell_type": "code",
      "metadata": {
        "id": "p_ks0NrIwYUA",
        "colab_type": "code",
        "outputId": "2768526d-c461-4dcb-e32b-4b420c2b7584",
        "colab": {
          "base_uri": "https://localhost:8080/",
          "height": 34
        }
      },
      "source": [
        "Weight = get_sample(df,'weight',n=3000)\n",
        "test_norm = sct.normaltest(Weight)\n",
        "test_norm"
      ],
      "execution_count": 30,
      "outputs": [
        {
          "output_type": "execute_result",
          "data": {
            "text/plain": [
              "NormaltestResult(statistic=510.24655809881176, pvalue=1.5898922918029537e-111)"
            ]
          },
          "metadata": {
            "tags": []
          },
          "execution_count": 30
        }
      ]
    },
    {
      "cell_type": "code",
      "metadata": {
        "id": "_jdqwRFDyuIG",
        "colab_type": "code",
        "outputId": "e40478bf-8f33-4b61-871e-90ef221e652d",
        "colab": {
          "base_uri": "https://localhost:8080/",
          "height": 431
        }
      },
      "source": [
        "plt.hist(Weight, bins=25, color = \"orange\")\n",
        "plt.show()"
      ],
      "execution_count": 31,
      "outputs": [
        {
          "output_type": "display_data",
          "data": {
            "image/png": "[encoded data removed]",
            "text/plain": [
              "<Figure size 720x504 with 1 Axes>"
            ]
          },
          "metadata": {
            "tags": []
          }
        }
      ]
    },
    {
      "cell_type": "code",
      "metadata": {
        "id": "rEv-wf3j6Yqr",
        "colab_type": "code",
        "colab": {}
      },
      "source": [
        "sm.qqplot(Weight, fit=True, line=\"45\", color = \"orange\");"
      ],
      "execution_count": 0,
      "outputs": []
    },
    {
      "cell_type": "code",
      "metadata": {
        "id": "seqCODVquGvX",
        "colab_type": "code",
        "colab": {
          "base_uri": "https://localhost:8080/",
          "height": 34
        },
        "outputId": "5562c312-9f54-4b71-de80-54228f2f7ff0"
      },
      "source": [
        "def q3():\n",
        "    Weight = get_sample(df,'weight',n=3000)\n",
        "    test_norm = sct.normaltest(Weight)\n",
        "    alpha = 0.05\n",
        "    return test_norm[1] > alpha\n",
        "\n",
        "q3()"
      ],
      "execution_count": 32,
      "outputs": [
        {
          "output_type": "execute_result",
          "data": {
            "text/plain": [
              "False"
            ]
          },
          "metadata": {
            "tags": []
          },
          "execution_count": 32
        }
      ]
    },
    {
      "cell_type": "markdown",
      "metadata": {
        "id": "u6aJpnLlrqb5",
        "colab_type": "text"
      },
      "source": [
        "**Podemos observar uma distribuiçao anormal no qqplot**"
      ]
    },
    {
      "cell_type": "markdown",
      "metadata": {
        "id": "iSdRuGqcstLx",
        "colab_type": "text"
      },
      "source": [
        "**Questão 4**\n",
        "Realize uma transformação logarítmica em na amostra de weight da questão 3 e repita o mesmo procedimento. Podemos afirmar a normalidade da variável transformada ao nível de significância de 5%? Responda com um boolean (True ou False)."
      ]
    },
    {
      "cell_type": "code",
      "metadata": {
        "id": "bpcwU4A-s2-5",
        "colab_type": "code",
        "colab": {
          "base_uri": "https://localhost:8080/",
          "height": 431
        },
        "outputId": "aab9d3fe-68fa-4d82-9408-440d80826cbf"
      },
      "source": [
        "Weight_transfor = np.log(Weight)\n",
        "plt.hist(Weight_transfor, bins=25,color = \"orange\")\n",
        "plt.show()"
      ],
      "execution_count": 36,
      "outputs": [
        {
          "output_type": "display_data",
          "data": {
            "image/png": "[encoded data removed]",
            "text/plain": [
              "<Figure size 720x504 with 1 Axes>"
            ]
          },
          "metadata": {
            "tags": []
          }
        }
      ]
    },
    {
      "cell_type": "code",
      "metadata": {
        "id": "mBdBKRF9sSch",
        "colab_type": "code",
        "colab": {
          "base_uri": "https://localhost:8080/",
          "height": 448
        },
        "outputId": "8620a56e-2e35-4b44-f510-344d515f855f"
      },
      "source": [
        "sm.qqplot(Weight_transfor, fit=True, line=\"45\",color = \"orange\");"
      ],
      "execution_count": 35,
      "outputs": [
        {
          "output_type": "display_data",
          "data": {
            "image/png": "[encoded data removed]",
            "text/plain": [
              "<Figure size 720x504 with 1 Axes>"
            ]
          },
          "metadata": {
            "tags": []
          }
        }
      ]
    },
    {
      "cell_type": "code",
      "metadata": {
        "id": "pj1bcVqwsc5A",
        "colab_type": "code",
        "colab": {
          "base_uri": "https://localhost:8080/",
          "height": 34
        },
        "outputId": "ac0ae667-3ddb-4e10-d117-26f254aa94c2"
      },
      "source": [
        "\n",
        "test = sct.normaltest(Weight_transfor)\n",
        "test"
      ],
      "execution_count": 37,
      "outputs": [
        {
          "output_type": "execute_result",
          "data": {
            "text/plain": [
              "NormaltestResult(statistic=45.91534331977353, pvalue=1.0705572101256944e-10)"
            ]
          },
          "metadata": {
            "tags": []
          },
          "execution_count": 37
        }
      ]
    },
    {
      "cell_type": "code",
      "metadata": {
        "id": "l8nBl5Es0ZfZ",
        "colab_type": "code",
        "colab": {
          "base_uri": "https://localhost:8080/",
          "height": 34
        },
        "outputId": "f9b5457a-9aad-4ce9-c311-5bdce461f76f"
      },
      "source": [
        "\n",
        "alpha = 0.05\n",
        "test[1] > alpha"
      ],
      "execution_count": 38,
      "outputs": [
        {
          "output_type": "execute_result",
          "data": {
            "text/plain": [
              "False"
            ]
          },
          "metadata": {
            "tags": []
          },
          "execution_count": 38
        }
      ]
    },
    {
      "cell_type": "markdown",
      "metadata": {
        "id": "0QBxl2r6AYpM",
        "colab_type": "text"
      },
      "source": [
        "**Resposta question 4**"
      ]
    },
    {
      "cell_type": "code",
      "metadata": {
        "id": "zFL4cr-q0g1o",
        "colab_type": "code",
        "colab": {
          "base_uri": "https://localhost:8080/",
          "height": 34
        },
        "outputId": "613e0903-c2fe-4bb5-891d-34f50e2ff5a9"
      },
      "source": [
        "def q4():\n",
        "    Weight = get_sample(df,'weight',n=3000)\n",
        "    Weight_transfor = np.log(Weight)\n",
        "    test = sct.normaltest(Weight_transfor)\n",
        "    alpha = 0.05\n",
        "    return test[1] > alpha\n",
        "\n",
        "q4()"
      ],
      "execution_count": 41,
      "outputs": [
        {
          "output_type": "execute_result",
          "data": {
            "text/plain": [
              "False"
            ]
          },
          "metadata": {
            "tags": []
          },
          "execution_count": 41
        }
      ]
    },
    {
      "cell_type": "markdown",
      "metadata": {
        "id": "LbrPGkvU27Q1",
        "colab_type": "text"
      },
      "source": [
        "Para as questão 5 6 e 7 a seguir considere todos testes efetuados ao nível de significância de 5%.\n",
        "\n",
        "**Questão 5**\n",
        "Obtenha todos atletas brasileiros, norte-americanos e canadenses em DataFrames chamados bra, usa e can,respectivamente. Realize um teste de hipóteses para comparação das médias das alturas (height) para amostras independentes e variâncias diferentes com a função scipy.stats.ttest_ind() entre bra e usa. Podemos afirmar que as médias são estatisticamente iguais? Responda com um boolean (True ou False)."
      ]
    },
    {
      "cell_type": "markdown",
      "metadata": {
        "id": "F015DMIx64B4",
        "colab_type": "text"
      },
      "source": [
        "**Documentation** função scipy.stats.ttest_ind() https://docs.scipy.org/doc/scipy/reference/generated/scipy.stats.ttest_ind.html"
      ]
    },
    {
      "cell_type": "markdown",
      "metadata": {
        "id": "8rxdTFyu3_Z0",
        "colab_type": "text"
      },
      "source": [
        "**Vamos filtrar as  nacionalidades dos USA BRA E CAN e calcular a media das alturas**"
      ]
    },
    {
      "cell_type": "code",
      "metadata": {
        "id": "8kUuT5en4qrY",
        "colab_type": "code",
        "colab": {}
      },
      "source": [
        "\n",
        "brasil = df[df.nationality == \"BRA\"]\n",
        "Estados_unidos = df[df.nationality == \"USA\"]\n",
        "canada = df[df.nationality == \"CAN\"]"
      ],
      "execution_count": 0,
      "outputs": []
    },
    {
      "cell_type": "markdown",
      "metadata": {
        "id": "tFTtRugW5fVw",
        "colab_type": "text"
      },
      "source": [
        "**Calulo da media das alturas**"
      ]
    },
    {
      "cell_type": "code",
      "metadata": {
        "id": "SKRFI9GT2-o8",
        "colab_type": "code",
        "colab": {
          "base_uri": "https://localhost:8080/",
          "height": 34
        },
        "outputId": "74ffaebc-2a68-416c-f84c-c357bd80bacf"
      },
      "source": [
        "media_Altura_brasi = brasil.height.mean()\n",
        "media_Altura_brasi"
      ],
      "execution_count": 44,
      "outputs": [
        {
          "output_type": "execute_result",
          "data": {
            "text/plain": [
              "1.764033613445379"
            ]
          },
          "metadata": {
            "tags": []
          },
          "execution_count": 44
        }
      ]
    },
    {
      "cell_type": "code",
      "metadata": {
        "id": "sGwLA2oj6DWp",
        "colab_type": "code",
        "colab": {
          "base_uri": "https://localhost:8080/",
          "height": 34
        },
        "outputId": "a256163a-5631-4a61-af4d-748d15d0ed91"
      },
      "source": [
        "media_Altura_usa = Estados_unidos.height.mean()\n",
        "media_Altura_usa"
      ],
      "execution_count": 45,
      "outputs": [
        {
          "output_type": "execute_result",
          "data": {
            "text/plain": [
              "1.7877678571428557"
            ]
          },
          "metadata": {
            "tags": []
          },
          "execution_count": 45
        }
      ]
    },
    {
      "cell_type": "code",
      "metadata": {
        "id": "F9b8STfT8ewP",
        "colab_type": "code",
        "colab": {
          "base_uri": "https://localhost:8080/",
          "height": 34
        },
        "outputId": "bd032335-3e89-471c-d86e-1d759b0d9299"
      },
      "source": [
        "brasil_contra_usa = sct.ttest_ind(brasil.height, Estados_unidos.height, equal_var=False, nan_policy='omit')\n",
        "brasil_contra_usa"
      ],
      "execution_count": 46,
      "outputs": [
        {
          "output_type": "execute_result",
          "data": {
            "text/plain": [
              "Ttest_indResult(statistic=-3.2232436467501855, pvalue=0.0013080041830140115)"
            ]
          },
          "metadata": {
            "tags": []
          },
          "execution_count": 46
        }
      ]
    },
    {
      "cell_type": "code",
      "metadata": {
        "id": "PWJCvAaD9uuK",
        "colab_type": "code",
        "colab": {
          "base_uri": "https://localhost:8080/",
          "height": 465
        },
        "outputId": "e4b6ed46-3bce-4460-a30a-452fe0884422"
      },
      "source": [
        "sns.distplot(brasil.height, label='Brasil')\n",
        "sns.distplot(Estados_unidos.height, label='Estados_unidos')\n",
        "plt.legend()"
      ],
      "execution_count": 63,
      "outputs": [
        {
          "output_type": "execute_result",
          "data": {
            "text/plain": [
              "<matplotlib.legend.Legend at 0x7fbfe26ead30>"
            ]
          },
          "metadata": {
            "tags": []
          },
          "execution_count": 63
        },
        {
          "output_type": "display_data",
          "data": {
            "image/png": "[encoded data removed]",
            "text/plain": [
              "<Figure size 720x504 with 1 Axes>"
            ]
          },
          "metadata": {
            "tags": []
          }
        }
      ]
    },
    {
      "cell_type": "code",
      "metadata": {
        "id": "jAMkbZNb_y8Q",
        "colab_type": "code",
        "colab": {
          "base_uri": "https://localhost:8080/",
          "height": 34
        },
        "outputId": "73f34b75-b019-44a9-e9c3-e4b9d6c0ee34"
      },
      "source": [
        "alpha = 0.05\n",
        "brasil_contra_usa[1] > alpha"
      ],
      "execution_count": 52,
      "outputs": [
        {
          "output_type": "execute_result",
          "data": {
            "text/plain": [
              "False"
            ]
          },
          "metadata": {
            "tags": []
          },
          "execution_count": 52
        }
      ]
    },
    {
      "cell_type": "markdown",
      "metadata": {
        "id": "cvU34NFaJftg",
        "colab_type": "text"
      },
      "source": [
        "**Observation as amostratas nao sao iguais**"
      ]
    },
    {
      "cell_type": "markdown",
      "metadata": {
        "id": "W4Nts9OfAm7H",
        "colab_type": "text"
      },
      "source": [
        "**Resposta Question 5**"
      ]
    },
    {
      "cell_type": "code",
      "metadata": {
        "id": "vHN24ON__3yx",
        "colab_type": "code",
        "colab": {
          "base_uri": "https://localhost:8080/",
          "height": 34
        },
        "outputId": "8f8c4711-5a21-4113-b11f-f09cdf095774"
      },
      "source": [
        "def q5():\n",
        "    brasil = df[df.nationality == \"BRA\"]\n",
        "    Estados_unidos = df[df.nationality == \"USA\"]\n",
        "    brasil_contra_usa = sct.ttest_ind(brasil.height, Estados_unidos.height, equal_var=False, nan_policy='omit')\n",
        "    alpha = 0.05\n",
        "    return bool(brasil_contra_usa[1] > alpha)\n",
        "\n",
        "q5()"
      ],
      "execution_count": 53,
      "outputs": [
        {
          "output_type": "execute_result",
          "data": {
            "text/plain": [
              "False"
            ]
          },
          "metadata": {
            "tags": []
          },
          "execution_count": 53
        }
      ]
    },
    {
      "cell_type": "markdown",
      "metadata": {
        "id": "_VodwcyiBo19",
        "colab_type": "text"
      },
      "source": [
        "\n",
        "**Questão 6** \n",
        "Repita o procedimento da questão 5, mas agora entre as alturas de bra e can. Podemos afimar agora que as médias são estatisticamente iguais? Reponda com um boolean (True ou False)."
      ]
    },
    {
      "cell_type": "markdown",
      "metadata": {
        "id": "EshoCp_xCD1E",
        "colab_type": "text"
      },
      "source": [
        "**Calulo da media das alturas**"
      ]
    },
    {
      "cell_type": "code",
      "metadata": {
        "id": "OFr4lcSDBvPD",
        "colab_type": "code",
        "colab": {
          "base_uri": "https://localhost:8080/",
          "height": 34
        },
        "outputId": "93e10b15-3755-4a8e-bf86-02d4b8366dc0"
      },
      "source": [
        "media_Altura_brasi = brasil.height.mean()\n",
        "media_Altura_brasi"
      ],
      "execution_count": 54,
      "outputs": [
        {
          "output_type": "execute_result",
          "data": {
            "text/plain": [
              "1.764033613445379"
            ]
          },
          "metadata": {
            "tags": []
          },
          "execution_count": 54
        }
      ]
    },
    {
      "cell_type": "code",
      "metadata": {
        "id": "KBfr-KjKBcio",
        "colab_type": "code",
        "colab": {
          "base_uri": "https://localhost:8080/",
          "height": 34
        },
        "outputId": "902fd806-8517-48ec-e60e-de273e1c5fa3"
      },
      "source": [
        "media_Altura_canada = canada.height.mean()\n",
        "media_Altura_canada"
      ],
      "execution_count": 55,
      "outputs": [
        {
          "output_type": "execute_result",
          "data": {
            "text/plain": [
              "1.7585937500000004"
            ]
          },
          "metadata": {
            "tags": []
          },
          "execution_count": 55
        }
      ]
    },
    {
      "cell_type": "code",
      "metadata": {
        "id": "bx46m-IFCkj6",
        "colab_type": "code",
        "colab": {
          "base_uri": "https://localhost:8080/",
          "height": 34
        },
        "outputId": "9a2cade5-64f7-4e01-ab7a-2bf527f8007a"
      },
      "source": [
        "brasil_contra_canada= sct.ttest_ind(brasil.height, canada.height, equal_var=False, nan_policy='omit')\n",
        "brasil_contra_canada"
      ],
      "execution_count": 56,
      "outputs": [
        {
          "output_type": "execute_result",
          "data": {
            "text/plain": [
              "Ttest_indResult(statistic=0.6389304914365109, pvalue=0.5230827295440921)"
            ]
          },
          "metadata": {
            "tags": []
          },
          "execution_count": 56
        }
      ]
    },
    {
      "cell_type": "code",
      "metadata": {
        "id": "Spv9qcajCxS5",
        "colab_type": "code",
        "colab": {
          "base_uri": "https://localhost:8080/",
          "height": 465
        },
        "outputId": "9219ff6a-356e-4e49-e251-bc4840591a80"
      },
      "source": [
        "sns.distplot(brasil.height, label='Brasil')\n",
        "sns.distplot(canada.height, label='canada')\n",
        "plt.legend()"
      ],
      "execution_count": 62,
      "outputs": [
        {
          "output_type": "execute_result",
          "data": {
            "text/plain": [
              "<matplotlib.legend.Legend at 0x7fbfe22af390>"
            ]
          },
          "metadata": {
            "tags": []
          },
          "execution_count": 62
        },
        {
          "output_type": "display_data",
          "data": {
            "image/png": "[encoded data removed]",
            "text/plain": [
              "<Figure size 720x504 with 1 Axes>"
            ]
          },
          "metadata": {
            "tags": []
          }
        }
      ]
    },
    {
      "cell_type": "code",
      "metadata": {
        "id": "JH_GGQrmEmjz",
        "colab_type": "code",
        "colab": {
          "base_uri": "https://localhost:8080/",
          "height": 34
        },
        "outputId": "dd96b577-a725-4873-d3d6-51a4ef78e940"
      },
      "source": [
        "alpha = 0.05\n",
        "brasil_contra_canada[1] > alpha"
      ],
      "execution_count": 64,
      "outputs": [
        {
          "output_type": "execute_result",
          "data": {
            "text/plain": [
              "True"
            ]
          },
          "metadata": {
            "tags": []
          },
          "execution_count": 64
        }
      ]
    },
    {
      "cell_type": "markdown",
      "metadata": {
        "id": "So2v4wMcF_O9",
        "colab_type": "text"
      },
      "source": [
        "**Observation : Temos uma distribuiçao igual**"
      ]
    },
    {
      "cell_type": "markdown",
      "metadata": {
        "id": "Q1XsBX3BFQ7P",
        "colab_type": "text"
      },
      "source": [
        "**Resposta question 6**"
      ]
    },
    {
      "cell_type": "code",
      "metadata": {
        "id": "1udOzhk2E3Ey",
        "colab_type": "code",
        "colab": {
          "base_uri": "https://localhost:8080/",
          "height": 34
        },
        "outputId": "404a8655-8874-4e7c-d783-f475d80bd2f6"
      },
      "source": [
        "def q6():\n",
        "    brasil = df[df.nationality == \"BRA\"]\n",
        "    canada = df[df.nationality == \"CAN\"]\n",
        "    brasil_contra_canada = sct.ttest_ind(brasil.height, canada.height, equal_var=False, nan_policy='omit')\n",
        "    alpha = 0.05\n",
        "    return bool(brasil_contra_canada[1] > alpha)\n",
        "\n",
        "q6()"
      ],
      "execution_count": 72,
      "outputs": [
        {
          "output_type": "execute_result",
          "data": {
            "text/plain": [
              "True"
            ]
          },
          "metadata": {
            "tags": []
          },
          "execution_count": 72
        }
      ]
    },
    {
      "cell_type": "markdown",
      "metadata": {
        "id": "JweXngU3GPj0",
        "colab_type": "text"
      },
      "source": [
        "**Questão 7**\n",
        "Repita o procedimento da questão 6, mas agora entre as alturas de usa e can. Qual o valor do p-valor retornado? Responda como um único escalar arredondado para oito casas decimais."
      ]
    },
    {
      "cell_type": "markdown",
      "metadata": {
        "id": "_3RRyfEwGc81",
        "colab_type": "text"
      },
      "source": [
        "**Calulo da media das alturas**"
      ]
    },
    {
      "cell_type": "code",
      "metadata": {
        "id": "NF2cC8cAGYa9",
        "colab_type": "code",
        "colab": {
          "base_uri": "https://localhost:8080/",
          "height": 34
        },
        "outputId": "df802c71-5412-424b-b049-94f049c48899"
      },
      "source": [
        "media_Altura_usa = Estados_unidos.height.mean()\n",
        "media_Altura_usa"
      ],
      "execution_count": 66,
      "outputs": [
        {
          "output_type": "execute_result",
          "data": {
            "text/plain": [
              "1.7877678571428557"
            ]
          },
          "metadata": {
            "tags": []
          },
          "execution_count": 66
        }
      ]
    },
    {
      "cell_type": "code",
      "metadata": {
        "id": "ayv2uSa4GwGJ",
        "colab_type": "code",
        "colab": {
          "base_uri": "https://localhost:8080/",
          "height": 34
        },
        "outputId": "67dc77d5-f8fe-4aba-e25a-37108e616481"
      },
      "source": [
        "media_Altura_canada = brasil.height.mean()\n",
        "media_Altura_canada"
      ],
      "execution_count": 67,
      "outputs": [
        {
          "output_type": "execute_result",
          "data": {
            "text/plain": [
              "1.764033613445379"
            ]
          },
          "metadata": {
            "tags": []
          },
          "execution_count": 67
        }
      ]
    },
    {
      "cell_type": "code",
      "metadata": {
        "id": "UFrkLXhFG9N3",
        "colab_type": "code",
        "colab": {
          "base_uri": "https://localhost:8080/",
          "height": 34
        },
        "outputId": "9066d4de-5b04-4f38-dcc0-c92a22073d20"
      },
      "source": [
        "usa_contra_canada= sct.ttest_ind(Estados_unidos.height, canada.height, equal_var=False, nan_policy='omit')\n",
        "usa_contra_canada"
      ],
      "execution_count": 69,
      "outputs": [
        {
          "output_type": "execute_result",
          "data": {
            "text/plain": [
              "Ttest_indResult(statistic=3.516987632488539, pvalue=0.0004660129347389851)"
            ]
          },
          "metadata": {
            "tags": []
          },
          "execution_count": 69
        }
      ]
    },
    {
      "cell_type": "code",
      "metadata": {
        "id": "QudZAit8HRaF",
        "colab_type": "code",
        "colab": {
          "base_uri": "https://localhost:8080/",
          "height": 465
        },
        "outputId": "f349c7fc-ba47-4f48-d5eb-cca4ce522b47"
      },
      "source": [
        "sns.distplot(Estados_unidos.height, label='Estado_unidos')\n",
        "sns.distplot(canada.height, label='canada')\n",
        "plt.legend()"
      ],
      "execution_count": 70,
      "outputs": [
        {
          "output_type": "execute_result",
          "data": {
            "text/plain": [
              "<matplotlib.legend.Legend at 0x7fbfe22fb518>"
            ]
          },
          "metadata": {
            "tags": []
          },
          "execution_count": 70
        },
        {
          "output_type": "display_data",
          "data": {
            "image/png": "[encoded data removed]",
            "text/plain": [
              "<Figure size 720x504 with 1 Axes>"
            ]
          },
          "metadata": {
            "tags": []
          }
        }
      ]
    },
    {
      "cell_type": "code",
      "metadata": {
        "id": "IBE4aGTeHnng",
        "colab_type": "code",
        "colab": {
          "base_uri": "https://localhost:8080/",
          "height": 34
        },
        "outputId": "3f236548-ec7c-4763-935e-6bf16859f33b"
      },
      "source": [
        "alpha = 0.05\n",
        "usa_contra_canada[1] > alpha"
      ],
      "execution_count": 71,
      "outputs": [
        {
          "output_type": "execute_result",
          "data": {
            "text/plain": [
              "False"
            ]
          },
          "metadata": {
            "tags": []
          },
          "execution_count": 71
        }
      ]
    },
    {
      "cell_type": "code",
      "metadata": {
        "id": "qRBNDY6PIUDT",
        "colab_type": "code",
        "colab": {
          "base_uri": "https://localhost:8080/",
          "height": 34
        },
        "outputId": "6ef4367c-da78-49c3-f081-d5380af7eacc"
      },
      "source": [
        "def q7():\n",
        "    Estados_unidos = df[df.nationality == \"USA\"]\n",
        "    canada = df[df.nationality == \"CAN\"]\n",
        "    brasil_contra_canada = sct.ttest_ind(Estados_unidos.height, canada.height, equal_var=False, nan_policy='omit')\n",
        "    alpha = 0.05\n",
        "    return round(usa_contra_canada[1],8)\n",
        "\n",
        "q7()"
      ],
      "execution_count": 74,
      "outputs": [
        {
          "output_type": "execute_result",
          "data": {
            "text/plain": [
              "0.00046601"
            ]
          },
          "metadata": {
            "tags": []
          },
          "execution_count": 74
        }
      ]
    },
    {
      "cell_type": "markdown",
      "metadata": {
        "id": "6e61JRjVJuU6",
        "colab_type": "text"
      },
      "source": [
        "**Observation General**\n",
        "\n",
        "\n",
        "1.   Os Atletas dos  Estados_Unidos têm uma maior representaçâo estatisticas quando observamos os graficos.\n",
        "2.   Os Atlestas do Brasil e do canada têm uma representaçao estatistica igual quando observamos a comparaçao Brasil e canada\n",
        "\n"
      ]
    }
  ]
}